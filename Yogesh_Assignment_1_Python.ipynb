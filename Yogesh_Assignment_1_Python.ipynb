{
 "cells": [
  {
   "cell_type": "markdown",
   "id": "0f857628-3f6b-4b75-901e-7c3177b3defd",
   "metadata": {},
   "source": [
    "### Q1 . Explain the 3 differences between List and tuples."
   ]
  },
  {
   "cell_type": "code",
   "execution_count": 134,
   "id": "6b274c9e-847e-4b78-99a9-4a6bcbe419c4",
   "metadata": {},
   "outputs": [],
   "source": [
    "#list is mutable and tuples are immutable\n",
    "#list is written in [] while tuples are written ()\n",
    "#lists are slower while tuples are faster"
   ]
  },
  {
   "cell_type": "markdown",
   "id": "427d0c9a-06db-41e9-a569-e2b33e5d82e9",
   "metadata": {},
   "source": [
    "### Q2. You’re a Data Scientist. You have assigned a task to perform. Create two lists l1 & l2, where l1 has values -> (1,2,3,4,5,6) and l2 has values -> (6,5,4,3,2,1). Compare the corresponding element values of both the lists and print “L1 element value is greater than L2 element value” if corresponding value from l1 is greater else print “L1 element value is less than L2 element value” if corresponding value from l1 is less than l2."
   ]
  },
  {
   "cell_type": "code",
   "execution_count": 9,
   "id": "7c595c43-54db-47c3-bfa4-060276b98fd2",
   "metadata": {},
   "outputs": [
    {
     "name": "stdout",
     "output_type": "stream",
     "text": [
      "L1 element value is less than L2 element values\n",
      "L1 element value is less than L2 element values\n",
      "L1 element value is less than L2 element values\n",
      "L1 element value is less than L2 element values\n",
      "L1 element value is less than L2 element values\n",
      "L1 element value is equal to L2 element values\n",
      "L1 element value is less than L2 element values\n",
      "L1 element value is less than L2 element values\n",
      "L1 element value is less than L2 element values\n",
      "L1 element value is less than L2 element values\n",
      "L1 element value is equal to L2 element values\n",
      "L1 element value is greater than L2 element values\n",
      "L1 element value is less than L2 element values\n",
      "L1 element value is less than L2 element values\n",
      "L1 element value is less than L2 element values\n",
      "L1 element value is equal to L2 element values\n",
      "L1 element value is greater than L2 element values\n",
      "L1 element value is greater than L2 element values\n",
      "L1 element value is less than L2 element values\n",
      "L1 element value is less than L2 element values\n",
      "L1 element value is equal to L2 element values\n",
      "L1 element value is greater than L2 element values\n",
      "L1 element value is greater than L2 element values\n",
      "L1 element value is greater than L2 element values\n",
      "L1 element value is less than L2 element values\n",
      "L1 element value is equal to L2 element values\n",
      "L1 element value is greater than L2 element values\n",
      "L1 element value is greater than L2 element values\n",
      "L1 element value is greater than L2 element values\n",
      "L1 element value is greater than L2 element values\n",
      "L1 element value is equal to L2 element values\n",
      "L1 element value is greater than L2 element values\n",
      "L1 element value is greater than L2 element values\n",
      "L1 element value is greater than L2 element values\n",
      "L1 element value is greater than L2 element values\n",
      "L1 element value is greater than L2 element values\n"
     ]
    }
   ],
   "source": [
    "l1=[1,2,3,4,5,6]\n",
    "l2=[6,5,4,3,2,1]\n",
    "for i in l1:\n",
    "     for j in l2:\n",
    "        if i>j:\n",
    "            print(\"L1 element value is greater than L2 element values\")\n",
    "        elif i<j:\n",
    "            print(\"L1 element value is less than L2 element values\")\n",
    "        elif i==j:\n",
    "         print(\"L1 element value is equal to L2 element values\")"
   ]
  },
  {
   "cell_type": "code",
   "execution_count": 11,
   "id": "887a5ab4-9550-4c04-8b69-3a8a2a043464",
   "metadata": {},
   "outputs": [
    {
     "name": "stdout",
     "output_type": "stream",
     "text": [
      "L1 element value is less than L2 element values\n",
      "L1 element value is less than L2 element values\n",
      "L1 element value is less than L2 element values\n",
      "L1 element value is greater than L2 element values\n",
      "L1 element value is greater than L2 element values\n",
      "L1 element value is greater than L2 element values\n"
     ]
    }
   ],
   "source": [
    "l1=[1,2,3,4,5,6]\n",
    "l2=[6,5,4,3,2,1]\n",
    "for i,j in zip(l1,l2):\n",
    "        if i>j:\n",
    "            print(\"L1 element value is greater than L2 element values\")\n",
    "        elif i<j:\n",
    "            print(\"L1 element value is less than L2 element values\")\n",
    "        else:\n",
    "            print(\"L1 element value is equal to L2 element values\")"
   ]
  },
  {
   "cell_type": "markdown",
   "id": "8eae5f62-cf0a-4d82-b958-f1ee250dc5e5",
   "metadata": {},
   "source": [
    "### Q3. Write a Python user defined function that takes a list of numbers from user and returns a dictionary with the number as the key and its square as the value."
   ]
  },
  {
   "cell_type": "code",
   "execution_count": 47,
   "id": "9d5c1932-1608-4623-a44c-147e73aa921a",
   "metadata": {},
   "outputs": [
    {
     "name": "stdin",
     "output_type": "stream",
     "text": [
      "Enter a list of numbers : 1 2 3 4 5\n"
     ]
    },
    {
     "name": "stdout",
     "output_type": "stream",
     "text": [
      "My_Dict : {1: 1, 2: 4, 3: 9, 4: 16, 5: 25}\n"
     ]
    }
   ],
   "source": [
    "def list_num_square():\n",
    "    input_list = list(map(int, input(\"Enter a list of numbers :\").split()))\n",
    "    dict={}\n",
    "    for i in input_list:\n",
    "        dict[i] = i**2\n",
    "    return dict\n",
    "print(\"My_Dict :\", list_num_square())"
   ]
  },
  {
   "cell_type": "markdown",
   "id": "e527cd00-7d30-4cae-8e00-464a11610bef",
   "metadata": {},
   "source": [
    "### Q4. You work in a Company as a Analyst. The company officials want you to build a python based Calculator. Write code to create a user defined function named Calculator.\r\n",
    "●\tUser will pass 3 parameters in Calculator function – int1, int2, task\r\n",
    "●\tThe task string will be ‘add’, ‘sub’, ‘mul’, ‘div’. Perform Addition, Subtraction, Multiplication and Division on the two numbers(int1, int2) respectively. Make sure the task parameter is case insensitive (meaning that even if user passes ‘aDd’ as command it should perform addition on two numbers).\r\n",
    "●\tDefine logics for addition, subtraction, multiplication and division in Calculator function that take in two numbers and return another number after performing their respective operations.\r\n",
    "Eg: Calculator(2,5,ADD) should return 7\r\n",
    "       Calculator(7,1,SuB) should retrn 6\r\n"
   ]
  },
  {
   "cell_type": "code",
   "execution_count": 8,
   "id": "28f039bc-199d-4dd2-93c7-8a0da0656be8",
   "metadata": {},
   "outputs": [
    {
     "name": "stdin",
     "output_type": "stream",
     "text": [
      "Ënter int1 : 5\n",
      "Enter int2 : 6\n",
      "Enter task : mUl\n"
     ]
    },
    {
     "name": "stdout",
     "output_type": "stream",
     "text": [
      "Result : 30\n"
     ]
    }
   ],
   "source": [
    "def calculator(int1,int2,task):    \n",
    "    if task.upper() == \"ADD\":\n",
    "        return int1+int2\n",
    "    elif task.upper() == \"SUB\":\n",
    "        return int1-int2\n",
    "    elif task.upper() == \"MUL\":\n",
    "        return int1*int2\n",
    "    elif task.upper() == \"DIV\":\n",
    "        if int2==0:\n",
    "            return \"Error\"\n",
    "        return int1/int2\n",
    "    else:\n",
    "        return \"invalid\"\n",
    "\n",
    "int1=int(input(\"Ënter int1 :\"))\n",
    "int2=int(input(\"Enter int2 :\"))\n",
    "task=input(\"Enter task :\")\n",
    "print(\"Result :\",calculator(int1,int2,task))"
   ]
  },
  {
   "cell_type": "markdown",
   "id": "00426e7e-8160-46fb-a685-08b9c7645389",
   "metadata": {},
   "source": [
    "### Q5. Write a Function to check if the year number is a leap year or not. Print all Leap Years of 21st Century."
   ]
  },
  {
   "cell_type": "code",
   "execution_count": 65,
   "id": "56489c8f-4a03-404e-84f9-2a7463ddf98e",
   "metadata": {},
   "outputs": [
    {
     "name": "stdin",
     "output_type": "stream",
     "text": [
      "Enter the year number : 2008\n"
     ]
    },
    {
     "name": "stdout",
     "output_type": "stream",
     "text": [
      "this is a leap year\n"
     ]
    }
   ],
   "source": [
    "year = int(input(\"Enter the year number :\"))\n",
    "if year % 4 == 0:\n",
    "    print(\"this is a leap year\")\n",
    "else:\n",
    "    print(\"this is not a leap year\")"
   ]
  },
  {
   "cell_type": "code",
   "execution_count": 86,
   "id": "3ae5913e-3cd3-4e96-93d9-59ab63685fc5",
   "metadata": {},
   "outputs": [
    {
     "name": "stdout",
     "output_type": "stream",
     "text": [
      "2004 2008 2012 2016 2020 2024 2028 2032 2036 2040 2044 2048 2052 2056 2060 2064 2068 2072 2076 2080 2084 2088 2092 2096 "
     ]
    }
   ],
   "source": [
    "for i in range (2001,2100):\n",
    "    if i % 4 == 0:\n",
    "        print(i,end=' ')"
   ]
  },
  {
   "cell_type": "markdown",
   "id": "a3415553-7742-42b6-9221-71b371db7819",
   "metadata": {},
   "source": [
    "### Q6. Write a python code to print the following pattern.  4 5\r\n"
   ]
  },
  {
   "cell_type": "code",
   "execution_count": 48,
   "id": "6534e303-87ed-4159-a985-e501bcf9aacb",
   "metadata": {},
   "outputs": [],
   "source": [
    "#1\n",
    "#1 2\n",
    "#1 2 3\n",
    "#1 2 3 4\n",
    "#1 2 3 4 5"
   ]
  },
  {
   "cell_type": "code",
   "execution_count": 133,
   "id": "f25d9c77-03c1-4e43-9b76-6d6adefb7c74",
   "metadata": {},
   "outputs": [
    {
     "name": "stdout",
     "output_type": "stream",
     "text": [
      "1 \n",
      "1 2 \n",
      "1 2 3 \n",
      "1 2 3 4 \n",
      "1 2 3 4 5 \n"
     ]
    }
   ],
   "source": [
    "for i in range(1,6):\n",
    "    for j in range(1,i+1):\n",
    "        print(j,end=' ')\n",
    "    print(\"\\r\")"
   ]
  },
  {
   "cell_type": "markdown",
   "id": "4a16e871-a134-4411-ae5a-fd05815e70ea",
   "metadata": {},
   "source": [
    "### Q7.Write a Python program to convert a list of tuples to dictionary?}\r\n"
   ]
  },
  {
   "cell_type": "code",
   "execution_count": 87,
   "id": "a7f3b555-aa0b-42be-b338-c2d870f6269f",
   "metadata": {},
   "outputs": [],
   "source": [
    "#Eg: I/P --  [(\"name\",\"Virat\"),(\"surname\",\"Kohli\"),(\"yob\",1986)]\n",
    "      #O/P -- {'name': 'Virat', 'surname': 'Kohli', 'yob': 1986}"
   ]
  },
  {
   "cell_type": "code",
   "execution_count": 95,
   "id": "b22b727c-2500-451f-99b9-96243ded9f71",
   "metadata": {},
   "outputs": [
    {
     "name": "stdout",
     "output_type": "stream",
     "text": [
      "dict : {'name': 'Virat', 'surname': 'Kohli', 'yob': 1986}\n"
     ]
    }
   ],
   "source": [
    "l1=[(\"name\",\"Virat\"),(\"surname\",\"Kohli\"),(\"yob\",1986)]\n",
    "dict={}\n",
    "for i in l1:\n",
    "    dict[i[0]] = i[1]\n",
    "print(\"dict :\", dict)"
   ]
  },
  {
   "cell_type": "markdown",
   "id": "d0f00368-7c22-443c-bb50-ccebaa1dc180",
   "metadata": {},
   "source": [
    "### Q8. Write a Function to take a list from user and return 2 lists:\r\n",
    "-\t1st list should contain all even indexed numbers.\r\n",
    "-\t2nd list should contain all odd indexed numbers.\r\n"
   ]
  },
  {
   "cell_type": "code",
   "execution_count": 105,
   "id": "da26060a-bec7-483e-bd41-cde8b7c63e30",
   "metadata": {},
   "outputs": [
    {
     "name": "stdin",
     "output_type": "stream",
     "text": [
      "Enter the list of numbers :  3 4 5 65 3 2 3 2 45 65 34 543 567 487 528 1 345\n"
     ]
    },
    {
     "name": "stdout",
     "output_type": "stream",
     "text": [
      "even index list : [3, 5, 3, 3, 45, 34, 567, 528, 345] odd index list : [4, 65, 2, 2, 65, 543, 487, 1]\n"
     ]
    }
   ],
   "source": [
    "def even_odd_ind_lists():\n",
    "    input_list = list(map(int,input(\"Enter the list of numbers : \").split()))\n",
    "    even_ind_list=[]\n",
    "    odd_ind_list=[]\n",
    "    for index, value in enumerate(input_list):\n",
    "        if index%2==0:\n",
    "            even_ind_list.append(value)\n",
    "        else:\n",
    "            odd_ind_list.append(value)\n",
    "    return even_ind_list , odd_ind_list\n",
    "\n",
    "even_ind_list, odd_ind_list = even_odd_ind_lists()\n",
    "print(\"even index list :\",even_ind_list , \"odd index list :\",odd_ind_list,)"
   ]
  },
  {
   "cell_type": "markdown",
   "id": "5e1d7db5-1756-4ce0-b038-ca49fdc1b185",
   "metadata": {},
   "source": [
    "### Q9. Create a function longest_word(sentence) that takes a sentence as input and returns  the  longest word in  the  sentence. If two or  more words have the  same length, return the first one."
   ]
  },
  {
   "cell_type": "code",
   "execution_count": 126,
   "id": "5aa0c511-4046-472e-9c52-9397c5afc48e",
   "metadata": {},
   "outputs": [
    {
     "name": "stdin",
     "output_type": "stream",
     "text": [
      "Enter a sentance : my name is yogesh kumar\n"
     ]
    },
    {
     "name": "stdout",
     "output_type": "stream",
     "text": [
      "longest word : yogesh\n"
     ]
    }
   ],
   "source": [
    "def longest_word():\n",
    "    sentence = input(\"Enter a sentance :\").split()\n",
    "    i=sentence[0]\n",
    "    for j in sentence:\n",
    "        if len(j)>len(i):\n",
    "            i = j       \n",
    "    return i\n",
    "i = longest_word()\n",
    "print(\"longest word :\", i)"
   ]
  },
  {
   "cell_type": "markdown",
   "id": "61a80506-bf83-4ead-939c-02f02374d9e9",
   "metadata": {},
   "source": [
    "### Q10. Write a Python  program  that takes a list and counts  the frequency of each  element using a dictionary. The keys of the dictionary should be the list elements, and the values should be the counts\r\n",
    "\r\n",
    "Eg: I/P:   [1, 2, 2, 3, 4, 4, 4, 5, 5] \r\n",
    "       o/p: {1: 1, 2: 2, 3: 1, 4: 3, 5: 2}\r\n"
   ]
  },
  {
   "cell_type": "code",
   "execution_count": 130,
   "id": "e99a877f-5f86-4a97-bd60-5e053a10180e",
   "metadata": {},
   "outputs": [
    {
     "name": "stdout",
     "output_type": "stream",
     "text": [
      "output_dict : {1: 1, 2: 2, 3: 1, 4: 3, 5: 2}\n"
     ]
    }
   ],
   "source": [
    "input_list = [1, 2, 2, 3, 4, 4, 4, 5, 5]\n",
    "output_dict = {}\n",
    "for i in input_list:\n",
    "    j=input_list.count(i)\n",
    "    output_dict[i] = j\n",
    "print(\"output_dict :\", output_dict)"
   ]
  }
 ],
 "metadata": {
  "kernelspec": {
   "display_name": "Python 3 (ipykernel)",
   "language": "python",
   "name": "python3"
  },
  "language_info": {
   "codemirror_mode": {
    "name": "ipython",
    "version": 3
   },
   "file_extension": ".py",
   "mimetype": "text/x-python",
   "name": "python",
   "nbconvert_exporter": "python",
   "pygments_lexer": "ipython3",
   "version": "3.11.7"
  }
 },
 "nbformat": 4,
 "nbformat_minor": 5
}
